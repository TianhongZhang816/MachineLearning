{
 "cells": [
  {
   "cell_type": "code",
   "execution_count": 19,
   "id": "1022e4d8",
   "metadata": {},
   "outputs": [],
   "source": [
    "import pandas as pd\n",
    "import matplotlib.pyplot as plt"
   ]
  },
  {
   "cell_type": "markdown",
   "id": "a98f5070",
   "metadata": {},
   "source": [
    "# 0.) Clean the Apple Data to get a quarterly series of EPS."
   ]
  },
  {
   "cell_type": "code",
   "execution_count": 6,
   "id": "397b45e8",
   "metadata": {},
   "outputs": [],
   "source": [
    "y = pd.read_csv(\"AAPL_quarterly_financials.csv\")"
   ]
  },
  {
   "cell_type": "code",
   "execution_count": 7,
   "id": "d370a9c1",
   "metadata": {},
   "outputs": [],
   "source": [
    "y.index = y.name"
   ]
  },
  {
   "cell_type": "code",
   "execution_count": 11,
   "id": "0b03cf5e",
   "metadata": {},
   "outputs": [],
   "source": [
    "y = pd.DataFrame(y.loc[\"BasicEPS\", :]).iloc[2:, :]"
   ]
  },
  {
   "cell_type": "code",
   "execution_count": 12,
   "id": "f0e83af1",
   "metadata": {},
   "outputs": [],
   "source": [
    "y.index = pd.to_datetime(y.index)"
   ]
  },
  {
   "cell_type": "code",
   "execution_count": 13,
   "id": "6c898786",
   "metadata": {},
   "outputs": [
    {
     "data": {
      "text/html": [
       "<div>\n",
       "<style scoped>\n",
       "    .dataframe tbody tr th:only-of-type {\n",
       "        vertical-align: middle;\n",
       "    }\n",
       "\n",
       "    .dataframe tbody tr th {\n",
       "        vertical-align: top;\n",
       "    }\n",
       "\n",
       "    .dataframe thead th {\n",
       "        text-align: right;\n",
       "    }\n",
       "</style>\n",
       "<table border=\"1\" class=\"dataframe\">\n",
       "  <thead>\n",
       "    <tr style=\"text-align: right;\">\n",
       "      <th></th>\n",
       "      <th>BasicEPS</th>\n",
       "    </tr>\n",
       "  </thead>\n",
       "  <tbody>\n",
       "    <tr>\n",
       "      <th>1985-09-30</th>\n",
       "      <td>0.0</td>\n",
       "    </tr>\n",
       "    <tr>\n",
       "      <th>1985-12-31</th>\n",
       "      <td>0.004</td>\n",
       "    </tr>\n",
       "    <tr>\n",
       "      <th>1986-03-31</th>\n",
       "      <td>0.002</td>\n",
       "    </tr>\n",
       "    <tr>\n",
       "      <th>1986-06-30</th>\n",
       "      <td>0.002</td>\n",
       "    </tr>\n",
       "    <tr>\n",
       "      <th>1986-09-30</th>\n",
       "      <td>0.0</td>\n",
       "    </tr>\n",
       "    <tr>\n",
       "      <th>...</th>\n",
       "      <td>...</td>\n",
       "    </tr>\n",
       "    <tr>\n",
       "      <th>2022-09-30</th>\n",
       "      <td>1.29</td>\n",
       "    </tr>\n",
       "    <tr>\n",
       "      <th>2022-12-31</th>\n",
       "      <td>1.89</td>\n",
       "    </tr>\n",
       "    <tr>\n",
       "      <th>2023-03-31</th>\n",
       "      <td>1.53</td>\n",
       "    </tr>\n",
       "    <tr>\n",
       "      <th>2023-06-30</th>\n",
       "      <td>1.27</td>\n",
       "    </tr>\n",
       "    <tr>\n",
       "      <th>2023-09-30</th>\n",
       "      <td>1.47</td>\n",
       "    </tr>\n",
       "  </tbody>\n",
       "</table>\n",
       "<p>153 rows × 1 columns</p>\n",
       "</div>"
      ],
      "text/plain": [
       "           BasicEPS\n",
       "1985-09-30      0.0\n",
       "1985-12-31    0.004\n",
       "1986-03-31    0.002\n",
       "1986-06-30    0.002\n",
       "1986-09-30      0.0\n",
       "...             ...\n",
       "2022-09-30     1.29\n",
       "2022-12-31     1.89\n",
       "2023-03-31     1.53\n",
       "2023-06-30     1.27\n",
       "2023-09-30     1.47\n",
       "\n",
       "[153 rows x 1 columns]"
      ]
     },
     "execution_count": 13,
     "metadata": {},
     "output_type": "execute_result"
    }
   ],
   "source": [
    "#Assumption nulls are 0s. need to investigate\n",
    "y.fillna(0.).sort_index()"
   ]
  },
  {
   "cell_type": "code",
   "execution_count": null,
   "id": "27f94790",
   "metadata": {},
   "outputs": [],
   "source": []
  },
  {
   "cell_type": "markdown",
   "id": "f41c46a9",
   "metadata": {},
   "source": [
    "# 3.) Come up with 6 search terms you think could nowcast earnings. (Different than the ones I used) Add in 3 terms that that you think will not Nowcast earnings. Pull in the gtrends data. Clean it to have a quarterly average."
   ]
  },
  {
   "cell_type": "code",
   "execution_count": 2,
   "id": "4ff67b5f",
   "metadata": {},
   "outputs": [],
   "source": [
    "from pytrends.request import TrendReq"
   ]
  },
  {
   "cell_type": "code",
   "execution_count": 21,
   "id": "8e2e6bd2",
   "metadata": {},
   "outputs": [],
   "source": [
    "import time"
   ]
  },
  {
   "cell_type": "code",
   "execution_count": 22,
   "id": "36446546",
   "metadata": {},
   "outputs": [],
   "source": [
    "# Create pytrends object\n",
    "pytrends = TrendReq(hl='en-US', tz=360)\n",
    "\n",
    "# Set up the keywords and the timeframe\n",
    "keywords = [\"iPhone\", \"Apple Layoffs\", \"Macbook\", \"iPad\", \"Apple CEO\", \"Apple Share Price\", \"Recession\", \"Chip Costs\", \"Taylor Swift Tickets\", \"Is the Earth Flat\", \"Hospital\"]  # Add your keywords here\n",
    "start_date = '2004-01-01'\n",
    "end_date = '2024-01-01'\n",
    "\n",
    "# Create an empty DataFrame to store the results\n",
    "df = pd.DataFrame()\n",
    "\n",
    "# Iterate through keywords and fetch data\n",
    "for keyword in keywords:\n",
    "    time.sleep(5)\n",
    "    pytrends.build_payload([keyword], cat=0, timeframe=f'{start_date} {end_date}', geo='', gprop='')\n",
    "    interest_over_time_df = pytrends.interest_over_time()\n",
    "    df[keyword] = interest_over_time_df[keyword]"
   ]
  },
  {
   "cell_type": "code",
   "execution_count": 23,
   "id": "d4528289",
   "metadata": {},
   "outputs": [],
   "source": [
    "X = df.resample(\"Q\").mean()"
   ]
  },
  {
   "cell_type": "code",
   "execution_count": null,
   "id": "d88e150e",
   "metadata": {},
   "outputs": [],
   "source": []
  },
  {
   "cell_type": "code",
   "execution_count": 36,
   "id": "cb13e4b3",
   "metadata": {},
   "outputs": [],
   "source": [
    "temp = pd.concat([y, X], axis = 1).dropna()\n",
    "y = temp[['BasicEPS']].copy()\n",
    "X = temp.iloc[:, 1:].copy()"
   ]
  },
  {
   "cell_type": "code",
   "execution_count": null,
   "id": "c11c2490",
   "metadata": {},
   "outputs": [],
   "source": []
  },
  {
   "cell_type": "markdown",
   "id": "73c7abb8",
   "metadata": {},
   "source": [
    "# 2.) Normalize all the X data"
   ]
  },
  {
   "cell_type": "code",
   "execution_count": 37,
   "id": "77671d95",
   "metadata": {},
   "outputs": [],
   "source": [
    "from sklearn.preprocessing import StandardScaler"
   ]
  },
  {
   "cell_type": "code",
   "execution_count": 38,
   "id": "bcbc44fa",
   "metadata": {},
   "outputs": [],
   "source": [
    "scaler = StandardScaler()"
   ]
  },
  {
   "cell_type": "code",
   "execution_count": 39,
   "id": "0f92c509",
   "metadata": {},
   "outputs": [],
   "source": [
    "X_scaled = scaler.fit_transform(X)"
   ]
  },
  {
   "cell_type": "code",
   "execution_count": null,
   "id": "d8857cb4",
   "metadata": {},
   "outputs": [],
   "source": []
  },
  {
   "cell_type": "code",
   "execution_count": null,
   "id": "8b5e9a5f",
   "metadata": {},
   "outputs": [],
   "source": []
  },
  {
   "cell_type": "code",
   "execution_count": null,
   "id": "81331794",
   "metadata": {},
   "outputs": [],
   "source": []
  },
  {
   "cell_type": "markdown",
   "id": "da43d5ef",
   "metadata": {},
   "source": [
    "# 4.) Run a Lasso with lambda of .5. Plot a bar chart."
   ]
  },
  {
   "cell_type": "code",
   "execution_count": 40,
   "id": "b7ff06aa",
   "metadata": {},
   "outputs": [],
   "source": [
    "from sklearn.linear_model import Lasso"
   ]
  },
  {
   "cell_type": "code",
   "execution_count": 41,
   "id": "f7311bec",
   "metadata": {},
   "outputs": [],
   "source": [
    "lasso = Lasso(alpha = .1)"
   ]
  },
  {
   "cell_type": "code",
   "execution_count": 42,
   "id": "8a2ac8fb",
   "metadata": {},
   "outputs": [
    {
     "data": {
      "text/plain": [
       "Lasso(alpha=0.1)"
      ]
     },
     "execution_count": 42,
     "metadata": {},
     "output_type": "execute_result"
    }
   ],
   "source": [
    "lasso.fit(X_scaled, y)"
   ]
  },
  {
   "cell_type": "code",
   "execution_count": 52,
   "id": "87734bfe",
   "metadata": {},
   "outputs": [],
   "source": [
    "coefficients = lasso.coef_"
   ]
  },
  {
   "cell_type": "code",
   "execution_count": 53,
   "id": "5d62ceef",
   "metadata": {},
   "outputs": [
    {
     "data": {
      "image/png": "[encoded data removed]",
      "text/plain": [
       "<Figure size 1600x500 with 1 Axes>"
      ]
     },
     "metadata": {},
     "output_type": "display_data"
    }
   ],
   "source": [
    "plt.figure(figsize = (16, 5))\n",
    "plt.bar(range(len(coefficients)), coefficients, tick_label = X.columns)\n",
    "plt.axhline(0., color = 'red')\n",
    "plt.show()"
   ]
  },
  {
   "cell_type": "code",
   "execution_count": 54,
   "id": "c0906d9b",
   "metadata": {},
   "outputs": [
    {
     "data": {
      "text/plain": [
       "array([ 0.02032841,  0.        ,  0.        ,  0.        ,  0.01226284,\n",
       "        0.31337405, -0.        , -0.        ,  0.01494808,  0.0035293 ,\n",
       "        0.        ])"
      ]
     },
     "execution_count": 54,
     "metadata": {},
     "output_type": "execute_result"
    }
   ],
   "source": [
    "coefficients"
   ]
  },
  {
   "cell_type": "markdown",
   "id": "e130a2be",
   "metadata": {},
   "source": [
    "# 5.) Do these coefficient magnitudes make sense?"
   ]
  },
  {
   "cell_type": "markdown",
   "id": "29a88e98",
   "metadata": {},
   "source": [
    "In summary, the coefficients make sense. The coefficients for relevant keywords are significantly different from zero and larger than those for irrelevant keywords.\n",
    "\n",
    "1. **Relevance of Keywords to BasicEPS:**\n",
    "   - The coefficients that are significantly different from zero correspond to keywords that are logically related to Apple's earnings per share (BasicEPS). For example, keywords directly related to Apple's products or financial performance (like \"iPhone\", \"Macbook\", \"Apple Share Price\") are more likely to have a meaningful impact on BasicEPS.\n",
    "   - The coefficients for these relevant keywords are notably higher than for unrelated keywords (like \"Taylor Swift Tickets\", \"Is the Earth Flat\", \"Hospital\"), it suggests the model is capturing sensible relationships.\n",
    "\n",
    "2. **Magnitude of Coefficients:**\n",
    "    - Since we've scaled data using `StandardScaler`, the coefficients are based on these scaled values. This means the magnitudes are comparable across features, but they don't represent the impact of the original unscaled units.\n",
    "   - The largest coefficient is `0.31337405`. If this coefficient corresponds to a keyword that is plausibly related to Apple's financial performance, its significant magnitude could indicate a strong relationship.\n",
    "   - Small or zero coefficients for unrelated keywords suggest that the model correctly identifies these as poor predictors for BasicEPS, which is a good sign."
   ]
  },
  {
   "cell_type": "code",
   "execution_count": null,
   "id": "bda82fa9",
   "metadata": {},
   "outputs": [],
   "source": []
  },
  {
   "cell_type": "markdown",
   "id": "3a2bd7d7",
   "metadata": {},
   "source": [
    "# 6.) Run a for loop looking at 10 different Lambdas and plot the coefficient magnitude for each."
   ]
  },
  {
   "cell_type": "code",
   "execution_count": null,
   "id": "1f115bee",
   "metadata": {},
   "outputs": [],
   "source": []
  },
  {
   "cell_type": "code",
   "execution_count": null,
   "id": "7a3e12d3",
   "metadata": {},
   "outputs": [],
   "source": []
  },
  {
   "cell_type": "markdown",
   "id": "17b28626",
   "metadata": {},
   "source": [
    "# 7.) Run a cross validation. What is your ideal lambda?"
   ]
  },
  {
   "cell_type": "code",
   "execution_count": null,
   "id": "9fc5cca1",
   "metadata": {},
   "outputs": [],
   "source": []
  },
  {
   "cell_type": "code",
   "execution_count": null,
   "id": "a58a192a",
   "metadata": {},
   "outputs": [],
   "source": []
  }
 ],
 "metadata": {
  "kernelspec": {
   "display_name": "Python 3 (ipykernel)",
   "language": "python",
   "name": "python3"
  },
  "language_info": {
   "codemirror_mode": {
    "name": "ipython",
    "version": 3
   },
   "file_extension": ".py",
   "mimetype": "text/x-python",
   "name": "python",
   "nbconvert_exporter": "python",
   "pygments_lexer": "ipython3",
   "version": "3.9.13"
  }
 },
 "nbformat": 4,
 "nbformat_minor": 5
}
